{
 "cells": [
  {
   "cell_type": "code",
   "execution_count": null,
   "id": "74804c43",
   "metadata": {},
   "outputs": [],
   "source": [
    "# Dependencies and Setup\n",
    "import matplotlib.pyplot as plt\n",
    "import pandas as pd\n",
    "import scipy.stats as st\n",
    "import numpy as np\n",
    "import datetime\n",
    "\n",
    "#Data file paths\n",
    "application_path = \"Data_Original/application_record.csv\"\n",
    "credit_path = \"Data_Original/credit_record.csv\"\n",
    "\n",
    "#Read the data\n",
    "application = pd.read_csv(application_path)\n",
    "credit = pd.read_csv(credit_path)\n",
    "\n",
    "#Combine the data into a single DataFrame\n",
    "data_merge = pd.merge(application, credit, on = \"ID\")\n",
    "#Display the data table for preview\n",
    "data_merge"
   ]
  },
  {
   "cell_type": "code",
   "execution_count": null,
   "id": "87627a44",
   "metadata": {},
   "outputs": [],
   "source": [
    "#Dropping uneeded columns\n",
    "drop_cols = [\"FLAG_WORK_PHONE\", \"FLAG_PHONE\",\"FLAG_EMAIL\"]\n",
    "data_merge.drop(drop_cols, axis = 1, inplace = True)\n",
    "data_merge"
   ]
  },
  {
   "cell_type": "code",
   "execution_count": null,
   "id": "9cf6b0ad",
   "metadata": {},
   "outputs": [],
   "source": [
    "#Filling certain blank results in our data\n",
    "data_merge.loc[data_merge['NAME_INCOME_TYPE'] == 'Pensioner', 'OCCUPATION_TYPE'] = data_merge.loc[data_merge['NAME_INCOME_TYPE'] == 'Pensioner', 'OCCUPATION_TYPE'].fillna('Pensioner')\n",
    "data_merge"
   ]
  },
  {
   "cell_type": "code",
   "execution_count": null,
   "id": "001161be",
   "metadata": {},
   "outputs": [],
   "source": [
    "#Converting negative numbers to positive numbers\n",
    "neg_convert = ['DAYS_BIRTH', 'DAYS_EMPLOYED', 'MONTHS_BALANCE']\n",
    "data_merge[neg_convert] = data_merge[neg_convert].abs()\n",
    "data_merge"
   ]
  },
  {
   "cell_type": "code",
   "execution_count": null,
   "id": "91d47799",
   "metadata": {},
   "outputs": [],
   "source": [
    "#Replacing error values in our data\n",
    "data_merge[\"DAYS_EMPLOYED\"] = data_merge[\"DAYS_EMPLOYED\"].replace(365243, 0)\n",
    "data_merge"
   ]
  },
  {
   "cell_type": "code",
   "execution_count": null,
   "id": "afe7dea8",
   "metadata": {},
   "outputs": [],
   "source": [
    "#Looping through DAYS_EMPLOYED column to convert the numbers into a count of how many years old they are\n",
    "for index,rows in data_merge.iterrows():\n",
    "    data_merge.at[index, 'DAYS_BIRTH']/=365\n",
    "data_merge"
   ]
  },
  {
   "cell_type": "code",
   "execution_count": null,
   "id": "4bb36fab",
   "metadata": {},
   "outputs": [],
   "source": [
    "#Casting DAYS_BIRTH column as integer\n",
    "data_merge[\"DAYS_BIRTH\"] = data_merge[\"DAYS_BIRTH\"].astype(int)\n",
    "data_merge"
   ]
  },
  {
   "cell_type": "code",
   "execution_count": null,
   "id": "baa42551",
   "metadata": {},
   "outputs": [],
   "source": [
    "#Filling any Null results in the OCCUPATION_TYPE column with Not Specified\n",
    "data_merge['OCCUPATION_TYPE'] = data_merge['OCCUPATION_TYPE'].fillna(\"Not Specified\")\n",
    "data_merge"
   ]
  },
  {
   "cell_type": "code",
   "execution_count": null,
   "id": "3bf04379",
   "metadata": {},
   "outputs": [],
   "source": [
    "#Looping through DAYS_EMPLOYED column to convert the numbers into a count of how many months\n",
    "for index,rows in data_merge.iterrows():\n",
    "    data_merge.at[index, 'DAYS_EMPLOYED']/=30.44\n",
    "data_merge"
   ]
  },
  {
   "cell_type": "code",
   "execution_count": null,
   "id": "14854109",
   "metadata": {},
   "outputs": [],
   "source": [
    "#Casting DAYS_EMPLOYED column as integer\n",
    "data_merge[\"DAYS_EMPLOYED\"] = data_merge[\"DAYS_EMPLOYED\"].astype(int)\n",
    "data_merge"
   ]
  },
  {
   "cell_type": "code",
   "execution_count": null,
   "id": "101f1a71",
   "metadata": {},
   "outputs": [],
   "source": [
    "#Recategorising the STATUS column\n",
    "data_merge[\"STATUS\"] = data_merge[\"STATUS\"].replace({\"0\": 'Minor Over',\n",
    "                                                     \"1\": 'Minor Over',\n",
    "                                                     \"2\": 'Minor Over',\n",
    "                                                     \"3\": 'Minor Over',\n",
    "                                                     \"4\": 'Minor Over',\n",
    "                                                     \"5\": 'Major Over',\n",
    "                                                     'C': 'Paid',\n",
    "                                                     'X': 'No Loan Taken'})\n",
    "data_merge"
   ]
  },
  {
   "cell_type": "code",
   "execution_count": null,
   "id": "90cd8267",
   "metadata": {},
   "outputs": [],
   "source": [
    "#Renaming column headers\n",
    "data_merge = data_merge.rename(columns={\"CODE_GENDER\": \"Gender\",\n",
    "                                        \"FLAG_OWN_CAR\": \"Owns a Car\",\n",
    "                                        \"FLAG_OWN_REALTY\": \"Owns Property\", \n",
    "                                        \"CNT_CHILDREN\": \"Number of Children\", \n",
    "                                        \"AMT_INCOME_TOTAL\": \"Annual Income\", \n",
    "                                        \"NAME_INCOME_TYPE\": \"Income Category\",\n",
    "                                        \"NAME_EDUCATION_TYPE\": \"Education Level\",\n",
    "                                        \"NAME_FAMILY_STATUS\": \"Marital Status\", \n",
    "                                        \"NAME_HOUSING_TYPE\": \"Houseing Type\", \n",
    "                                        \"DAYS_BIRTH\": \"Age\", \n",
    "                                        \"DAYS_EMPLOYED\": \"Months Employed\", \n",
    "                                        \"FLAG_MOBIL\": \"Owns a Mobile\", \n",
    "                                        \"OCCUPATION_TYPE\": \"Occupation\", \n",
    "                                        \"CNT_FAM_MEMBERS\": \"Family Members\", \n",
    "                                        \"MONTHS_BALANCE\": \"Months Since Payment\", \n",
    "                                        \"STATUS\": \"Status\"})\n",
    "data_merge"
   ]
  },
  {
   "cell_type": "code",
   "execution_count": null,
   "id": "aa5a617b",
   "metadata": {},
   "outputs": [],
   "source": [
    "#Exporting the cleaned dataframe out as a csv\n",
    "data_merge.to_csv(\"data_clean.csv\")"
   ]
  }
 ],
 "metadata": {
  "kernelspec": {
   "display_name": "Python 3 (ipykernel)",
   "language": "python",
   "name": "python3"
  },
  "language_info": {
   "codemirror_mode": {
    "name": "ipython",
    "version": 3
   },
   "file_extension": ".py",
   "mimetype": "text/x-python",
   "name": "python",
   "nbconvert_exporter": "python",
   "pygments_lexer": "ipython3",
   "version": "3.10.13"
  }
 },
 "nbformat": 4,
 "nbformat_minor": 5
}
